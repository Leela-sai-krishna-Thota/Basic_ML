{
  "nbformat": 4,
  "nbformat_minor": 0,
  "metadata": {
    "colab": {
      "provenance": [],
      "authorship_tag": "ABX9TyP9uKvXySl/uD/tmhquUv5G",
      "include_colab_link": true
    },
    "kernelspec": {
      "name": "python3",
      "display_name": "Python 3"
    },
    "language_info": {
      "name": "python"
    }
  },
  "cells": [
    {
      "cell_type": "markdown",
      "metadata": {
        "id": "view-in-github",
        "colab_type": "text"
      },
      "source": [
        "<a href=\"https://colab.research.google.com/github/Leela-sai-krishna-Thota/Basic_ML/blob/main/ML.ipynb\" target=\"_parent\"><img src=\"https://colab.research.google.com/assets/colab-badge.svg\" alt=\"Open In Colab\"/></a>"
      ]
    },
    {
      "cell_type": "markdown",
      "source": [
        "###Assignment1"
      ],
      "metadata": {
        "id": "41k0qN79Kvlh"
      }
    },
    {
      "cell_type": "markdown",
      "source": [
        "1.perform arithmetic operations on Numpy arrays\n"
      ],
      "metadata": {
        "id": "N6xMx4D9ln2f"
      }
    },
    {
      "cell_type": "code",
      "execution_count": null,
      "metadata": {
        "id": "blo4JlHcet_t",
        "colab": {
          "base_uri": "https://localhost:8080/"
        },
        "outputId": "e7e13f01-972c-4cf2-d48d-7206a4b7f644"
      },
      "outputs": [
        {
          "output_type": "stream",
          "name": "stdout",
          "text": [
            "[ 6  8 10]\n",
            "[-4 -4 -4]\n",
            "[ 5 12 21]\n",
            "[0.2        0.33333333 0.42857143]\n",
            "[1 2 3]\n",
            "[   1   64 2187]\n"
          ]
        }
      ],
      "source": [
        "import numpy as np\n",
        "a=np.array([1,2,3])\n",
        "b=np.array([5,6,7])\n",
        "print(np.add(a,b))\n",
        "print(np.subtract(a,b))\n",
        "print(np.multiply(a,b))\n",
        "print(np.divide(a,b))\n",
        "print(np.mod(a,b))\n",
        "print(np.power(a,b))"
      ]
    },
    {
      "cell_type": "markdown",
      "source": [
        "\n",
        "\n",
        "---\n",
        "\n"
      ],
      "metadata": {
        "id": "rs88DZihlcGJ"
      }
    },
    {
      "cell_type": "markdown",
      "source": [
        "2.write a script to compute the mean and standard deviation of numpy array\n"
      ],
      "metadata": {
        "id": "TEjarlckgdkS"
      }
    },
    {
      "cell_type": "code",
      "source": [
        "a=np.array([1,2,3])\n",
        "print(np.mean(a))\n",
        "print(np.std(a))"
      ],
      "metadata": {
        "colab": {
          "base_uri": "https://localhost:8080/"
        },
        "id": "OfzqBSV0g6rp",
        "outputId": "e2bd60c9-4599-41e8-dff1-9aba036533b8"
      },
      "execution_count": null,
      "outputs": [
        {
          "output_type": "stream",
          "name": "stdout",
          "text": [
            "2.0\n",
            "0.816496580927726\n"
          ]
        }
      ]
    },
    {
      "cell_type": "markdown",
      "source": [
        "3.Create a NumPy array of integers from 10 to 50 with a step size of 5."
      ],
      "metadata": {
        "id": "k_W_a81miJFD"
      }
    },
    {
      "cell_type": "code",
      "source": [
        "s=np.array(range(10,50,5))\n",
        "print(s)"
      ],
      "metadata": {
        "colab": {
          "base_uri": "https://localhost:8080/"
        },
        "id": "tSqzXEFGiLnJ",
        "outputId": "2fd0c8e3-4ed9-4efa-e333-29b1c9db329b"
      },
      "execution_count": 9,
      "outputs": [
        {
          "output_type": "stream",
          "name": "stdout",
          "text": [
            "[10 15 20 25 30 35 40 45]\n"
          ]
        }
      ]
    },
    {
      "cell_type": "markdown",
      "source": [
        "4.Reshape the array into a 2x4 matrix.\n"
      ],
      "metadata": {
        "id": "aVZBTo07ihGE"
      }
    },
    {
      "cell_type": "code",
      "source": [
        "rs=s.reshape(2,4)\n",
        "print(rs)"
      ],
      "metadata": {
        "colab": {
          "base_uri": "https://localhost:8080/"
        },
        "id": "P27oihZ-iiku",
        "outputId": "4d28c6e3-99ae-48db-fb30-82b8f624b242"
      },
      "execution_count": null,
      "outputs": [
        {
          "output_type": "stream",
          "name": "stdout",
          "text": [
            "[[10 15 20 25]\n",
            " [30 35 40 45]]\n"
          ]
        }
      ]
    },
    {
      "cell_type": "markdown",
      "source": [
        "5.Given the array arr = np.array([[1, 2, 3], [4, 5, 6], [7, 8, 9]]): • Extract the sub-matrix containing the last two rows and first two columns. • Replace all elements greater than 4 with 0."
      ],
      "metadata": {
        "id": "ZVsso_3yLE4I"
      }
    },
    {
      "cell_type": "code",
      "source": [
        "import numpy as np\n",
        "arr = np.array([[1, 2, 3], [4, 5, 6], [7, 8, 9]])\n",
        "print(f'Sub matrix = {arr[1:,:2]}')\n",
        "arr[arr>4]=0\n",
        "print(f'Modified Array = {arr}')"
      ],
      "metadata": {
        "colab": {
          "base_uri": "https://localhost:8080/"
        },
        "id": "Dovd-LIZLLCY",
        "outputId": "b57f8edf-a555-4961-f880-3c7bbefdf183"
      },
      "execution_count": 3,
      "outputs": [
        {
          "output_type": "stream",
          "name": "stdout",
          "text": [
            "Sub matrix = [[4 5]\n",
            " [7 8]]\n",
            "Modified Array = [[1 2 3]\n",
            " [4 0 0]\n",
            " [0 0 0]]\n"
          ]
        }
      ]
    },
    {
      "cell_type": "markdown",
      "source": [
        "6.Create two 1D arrays: • a = np.array([1, 2, 3]) • b = np.array([4, 5, 6]) • Perform element-wise addition, multiplication, and division."
      ],
      "metadata": {
        "id": "d5oyLN0JMUmo"
      }
    },
    {
      "cell_type": "code",
      "source": [
        "a = np.array([1, 2, 3])\n",
        "b = np.array([4, 5, 6])\n",
        "print(f'Additon = {a+b}')\n",
        "print(f'Multiplication = {a*b}')\n",
        "print(f'Division = {a/b}')"
      ],
      "metadata": {
        "colab": {
          "base_uri": "https://localhost:8080/"
        },
        "id": "43g5b21pMei6",
        "outputId": "562e72b4-4ced-4c9f-a263-82dc97540b4d"
      },
      "execution_count": 4,
      "outputs": [
        {
          "output_type": "stream",
          "name": "stdout",
          "text": [
            "Additon = [5 7 9]\n",
            "Multiplication = [ 4 10 18]\n",
            "Division = [0.25 0.4  0.5 ]\n"
          ]
        }
      ]
    },
    {
      "cell_type": "markdown",
      "source": [
        "7.Create a random NumPy array of size (4, 4). Compute: • Mean of each column. • Maximum value of the entire array. • Sum of all elements."
      ],
      "metadata": {
        "id": "LdJVVKQGMw2x"
      }
    },
    {
      "cell_type": "code",
      "source": [
        "a = np.random.rand(4,4)\n",
        "print(f'Mean of Column = {np.mean(a,axis=0)}')\n",
        "print(f'Max value = {np.max(a)}')\n",
        "print(f'Sum = {np.sum(a)}')\n",
        ""
      ],
      "metadata": {
        "colab": {
          "base_uri": "https://localhost:8080/"
        },
        "id": "obu7tIoEM7r5",
        "outputId": "08d7ed18-fa7e-4e06-a4ce-ade1825b5cd6"
      },
      "execution_count": 5,
      "outputs": [
        {
          "output_type": "stream",
          "name": "stdout",
          "text": [
            "Mean of Column = [0.64363349 0.44929376 0.39488192 0.24592909]\n",
            "Max value = 0.9633485201474498\n",
            "Sum = 6.934953105858887\n"
          ]
        }
      ]
    },
    {
      "cell_type": "markdown",
      "source": [
        "8.Given the array arr = np.array([1, 2, 3, 4]), add 10 to each element and multiply the result by 2."
      ],
      "metadata": {
        "id": "F9LqDBQrNF01"
      }
    },
    {
      "cell_type": "code",
      "source": [
        "arr = np.array([1, 2, 3, 4])\n",
        "print(f'Modified Arr = {2*(arr+10)}')\n",
        ""
      ],
      "metadata": {
        "colab": {
          "base_uri": "https://localhost:8080/"
        },
        "id": "yocdSP8RNO0c",
        "outputId": "f3569864-04f2-4275-d6be-a701a2afabe0"
      },
      "execution_count": 6,
      "outputs": [
        {
          "output_type": "stream",
          "name": "stdout",
          "text": [
            "Modified Arr = [22 24 26 28]\n"
          ]
        }
      ]
    },
    {
      "cell_type": "markdown",
      "source": [
        "9.Perform advanced slicing and indexing on a 3D array. Create a 3D NumPy array arr of shape (3, 4, 5) with random integers ranging from 1 to 100. Perform the following: • Extract the second \"layer\" (i.e., the second 2D array) in the first dimension. • Extract the first two rows and the last three columns from each \"layer.\" • Replace all elements divisible by 3 with -1."
      ],
      "metadata": {
        "id": "M3VDRR1VNc-s"
      }
    },
    {
      "cell_type": "code",
      "source": [
        "arr = np.random.randint(1,100,(3,4,5))\n",
        "print(f'Second 2D Arr = {arr[1]}')\n",
        "print(f'Sub Arr = {arr[0,:2,-3:]}')\n",
        "arr[arr%3==0]=-1\n",
        "print(f'Modified Arr = {arr}')"
      ],
      "metadata": {
        "colab": {
          "base_uri": "https://localhost:8080/"
        },
        "id": "vWekrvsqNqUS",
        "outputId": "30f41349-904e-4634-9f8e-430c6a952547"
      },
      "execution_count": 7,
      "outputs": [
        {
          "output_type": "stream",
          "name": "stdout",
          "text": [
            "Second 2D Arr = [[47 32 88 65 12]\n",
            " [95 25 79 78 69]\n",
            " [27 51 66 35 77]\n",
            " [42 58 53  3 47]]\n",
            "Sub Arr = [[50 97 66]\n",
            " [64 72 24]]\n",
            "Modified Arr = [[[89 34 50 97 -1]\n",
            "  [-1 46 64 -1 -1]\n",
            "  [97 14 11 86 38]\n",
            "  [20 -1 56 73 89]]\n",
            "\n",
            " [[47 32 88 65 -1]\n",
            "  [95 25 79 -1 -1]\n",
            "  [-1 -1 -1 35 77]\n",
            "  [-1 58 53 -1 47]]\n",
            "\n",
            " [[95 38 -1 -1 -1]\n",
            "  [59 20 -1  8  5]\n",
            "  [34 92 -1 14 41]\n",
            "  [62 -1 86 -1 23]]]\n"
          ]
        }
      ]
    },
    {
      "cell_type": "markdown",
      "source": [
        "10.Work with broadcasting and advanced operations in NumPy. Create a NumPy array arr of shape (3, 3) with random integers between 1 and 20. Perform the following: • Subtract the mean of each row from its respective elements (row-wise normalization). • Create a new array by squaring all the elements in arr. • Find the indices of the top 3 maximum values in the entire array."
      ],
      "metadata": {
        "id": "6A7rXRE8NvpP"
      }
    },
    {
      "cell_type": "code",
      "source": [
        "arr = np.random.randint(1,20,(3,3))\n",
        "print(f'Normalized Arr = {arr-np.mean(arr,axis=1,keepdims=True)}')\n",
        "sqa = np.square(arr)\n",
        "print(f'Square Arr = {sqa}')\n",
        "print(f'Max Indices = {np.argsort(arr.flatten())[-3:]}')"
      ],
      "metadata": {
        "colab": {
          "base_uri": "https://localhost:8080/"
        },
        "id": "b-nUJ1P6N2IB",
        "outputId": "73cd03d3-380e-485f-88f6-e7586aa0485d"
      },
      "execution_count": 8,
      "outputs": [
        {
          "output_type": "stream",
          "name": "stdout",
          "text": [
            "Normalized Arr = [[-7.66666667 10.33333333 -2.66666667]\n",
            " [ 4.         -1.         -3.        ]\n",
            " [-0.66666667  7.33333333 -6.66666667]]\n",
            "Square Arr = [[  1 361  36]\n",
            " [169  64  36]\n",
            " [ 49 225   1]]\n",
            "Max Indices = [3 7 1]\n"
          ]
        }
      ]
    }
  ]
}